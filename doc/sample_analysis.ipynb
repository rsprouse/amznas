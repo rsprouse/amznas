{
 "cells": [
  {
   "cell_type": "markdown",
   "id": "857454b0",
   "metadata": {},
   "source": [
    "## Sample analysis"
   ]
  },
  {
   "cell_type": "code",
   "execution_count": 1,
   "id": "84b2c4e9",
   "metadata": {},
   "outputs": [],
   "source": [
    "from pathlib import Path\n",
    "import numpy as np\n",
    "import pandas as pd\n",
    "import scipy.io.wavfile\n",
    "import matplotlib.pyplot as plt\n",
    "\n",
    "from eggd800.signal import butter_lowpass_filter\n",
    "from audiolabel import read_label\n",
    "from phonlab.utils import dir2df, match_tokentimes"
   ]
  },
  {
   "cell_type": "code",
   "execution_count": 2,
   "id": "958c2d90",
   "metadata": {},
   "outputs": [],
   "source": [
    "datadir = Path(\n",
    "    '/Users/ronald/src/amznas/doc/'\n",
    ")"
   ]
  },
  {
   "cell_type": "markdown",
   "id": "98091f9f",
   "metadata": {},
   "source": [
    "Get dataframes of textgrids and .wav files to analyze. I'm working with a single made up textgrid. Extract experiment variables from the filenames."
   ]
  },
  {
   "cell_type": "code",
   "execution_count": 3,
   "id": "81536288",
   "metadata": {},
   "outputs": [
    {
     "data": {
      "text/html": [
       "<div>\n",
       "<style scoped>\n",
       "    .dataframe tbody tr th:only-of-type {\n",
       "        vertical-align: middle;\n",
       "    }\n",
       "\n",
       "    .dataframe tbody tr th {\n",
       "        vertical-align: top;\n",
       "    }\n",
       "\n",
       "    .dataframe thead th {\n",
       "        text-align: right;\n",
       "    }\n",
       "</style>\n",
       "<table border=\"1\" class=\"dataframe\">\n",
       "  <thead>\n",
       "    <tr style=\"text-align: right;\">\n",
       "      <th></th>\n",
       "      <th>relpath</th>\n",
       "      <th>fname</th>\n",
       "      <th>barename</th>\n",
       "      <th>lang</th>\n",
       "      <th>spkr</th>\n",
       "      <th>researcher</th>\n",
       "      <th>tstamp</th>\n",
       "      <th>item</th>\n",
       "      <th>rep</th>\n",
       "    </tr>\n",
       "  </thead>\n",
       "  <tbody>\n",
       "    <tr>\n",
       "      <th>0</th>\n",
       "      <td>.</td>\n",
       "      <td>pid_aop_jrl_20220512T090852__matarM__0.TextGrid</td>\n",
       "      <td>pid_aop_jrl_20220512T090852__matarM__0</td>\n",
       "      <td>pid</td>\n",
       "      <td>aop</td>\n",
       "      <td>jrl</td>\n",
       "      <td>20220512T090852</td>\n",
       "      <td>_matarM_</td>\n",
       "      <td>0</td>\n",
       "    </tr>\n",
       "  </tbody>\n",
       "</table>\n",
       "</div>"
      ],
      "text/plain": [
       "  relpath                                            fname  \\\n",
       "0       .  pid_aop_jrl_20220512T090852__matarM__0.TextGrid   \n",
       "\n",
       "                                 barename lang spkr researcher  \\\n",
       "0  pid_aop_jrl_20220512T090852__matarM__0  pid  aop        jrl   \n",
       "\n",
       "            tstamp      item rep  \n",
       "0  20220512T090852  _matarM_   0  "
      ]
     },
     "execution_count": 3,
     "metadata": {},
     "output_type": "execute_result"
    }
   ],
   "source": [
    "tgdf = dir2df(\n",
    "    datadir,\n",
    "    fnpat='(?P<lang>[^_]+)_(?P<spkr>[^_]+)_(?P<researcher>[^_]+)_(?P<tstamp>[^_]+)_(?P<item>.+)_(?P<rep>\\d+)\\.TextGrid',\n",
    "    addcols=['barename']\n",
    ")   \n",
    "tgdf"
   ]
  },
  {
   "cell_type": "code",
   "execution_count": 4,
   "id": "8a522a36",
   "metadata": {},
   "outputs": [
    {
     "data": {
      "text/html": [
       "<div>\n",
       "<style scoped>\n",
       "    .dataframe tbody tr th:only-of-type {\n",
       "        vertical-align: middle;\n",
       "    }\n",
       "\n",
       "    .dataframe tbody tr th {\n",
       "        vertical-align: top;\n",
       "    }\n",
       "\n",
       "    .dataframe thead th {\n",
       "        text-align: right;\n",
       "    }\n",
       "</style>\n",
       "<table border=\"1\" class=\"dataframe\">\n",
       "  <thead>\n",
       "    <tr style=\"text-align: right;\">\n",
       "      <th></th>\n",
       "      <th>relpath</th>\n",
       "      <th>fname</th>\n",
       "      <th>barename</th>\n",
       "      <th>lang</th>\n",
       "      <th>spkr</th>\n",
       "      <th>researcher</th>\n",
       "      <th>tstamp</th>\n",
       "      <th>item</th>\n",
       "      <th>rep</th>\n",
       "    </tr>\n",
       "  </thead>\n",
       "  <tbody>\n",
       "    <tr>\n",
       "      <th>0</th>\n",
       "      <td>.</td>\n",
       "      <td>pid_aop_jrl_20220512T090852__matarM__0.wav</td>\n",
       "      <td>pid_aop_jrl_20220512T090852__matarM__0</td>\n",
       "      <td>pid</td>\n",
       "      <td>aop</td>\n",
       "      <td>jrl</td>\n",
       "      <td>20220512T090852</td>\n",
       "      <td>_matarM_</td>\n",
       "      <td>0</td>\n",
       "    </tr>\n",
       "  </tbody>\n",
       "</table>\n",
       "</div>"
      ],
      "text/plain": [
       "  relpath                                       fname  \\\n",
       "0       .  pid_aop_jrl_20220512T090852__matarM__0.wav   \n",
       "\n",
       "                                 barename lang spkr researcher  \\\n",
       "0  pid_aop_jrl_20220512T090852__matarM__0  pid  aop        jrl   \n",
       "\n",
       "            tstamp      item rep  \n",
       "0  20220512T090852  _matarM_   0  "
      ]
     },
     "execution_count": 4,
     "metadata": {},
     "output_type": "execute_result"
    }
   ],
   "source": [
    "wavdf = dir2df(\n",
    "    datadir,\n",
    "    fnpat='(?P<lang>[^_]+)_(?P<spkr>[^_]+)_(?P<researcher>[^_]+)_(?P<tstamp>[^_]+)_(?P<item>.+)_(?P<rep>\\d+)\\.wav',\n",
    "    addcols=['barename']\n",
    ")\n",
    "wavdf"
   ]
  },
  {
   "cell_type": "code",
   "execution_count": 5,
   "id": "7a16139c",
   "metadata": {},
   "outputs": [],
   "source": [
    "def get_sigs(wavfile, chan=['audio', 'orfl', None, 'nsfl'], cutoff=50, order=3):\n",
    "    '''\n",
    "    Get signals from `wavfile`.\n",
    "    \n",
    "    Parameters\n",
    "    ----------\n",
    "    \n",
    "    wavfile : Path or str\n",
    "    The .wav file to read.\n",
    "    \n",
    "    chan : list of str\n",
    "    A list of signal channels in the order that they occur in the wavfile. Use\n",
    "    None as a placeholder for a channel from wavfile that will not be returned.\n",
    "    Channels named 'orfl' and 'nsfl' will be filtered.\n",
    "    \n",
    "    cutoff : num\n",
    "    Cutoff value of the lowpass butterworth filter for 'orfl' and 'nsfl' signals.\n",
    "    \n",
    "    order : int\n",
    "    Order of the lowpass butterworth filter for 'orfl' and 'nsfl' signals.\n",
    "    \n",
    "    Returns\n",
    "    -------\n",
    "    Tuple consisting of:\n",
    "    \n",
    "    rate : num\n",
    "    Data sample rate.\n",
    "    \n",
    "    ts : array\n",
    "    Times corresponding to each sample value.\n",
    "    \n",
    "    arrays : array\n",
    "    An array for each non-None value passed as `chan`. With the default value of\n",
    "    `chan` three arrays are returned, for a total of five elements in the returned\n",
    "    tuple.\n",
    "    '''\n",
    "    chanmap = {c: idx for idx, c in enumerate(chan) if c is not None}\n",
    "    (rate, data) = scipy.io.wavfile.read(wavfile)\n",
    "    ts = np.arange(data.shape[0]) / rate\n",
    "    data[:, chanmap['orfl']] = butter_lowpass_filter(\n",
    "        data[:, chanmap['orfl']], cutoff, rate, order\n",
    "    )\n",
    "    data[:, chanmap['nsfl']] = butter_lowpass_filter(\n",
    "        data[:, chanmap['nsfl']], cutoff, rate, order\n",
    "    )\n",
    "    return (rate, ts, *[data[:, c] for c in chanmap.values()])"
   ]
  },
  {
   "cell_type": "code",
   "execution_count": 6,
   "id": "b30333ba",
   "metadata": {},
   "outputs": [],
   "source": [
    "for row in tgdf.itertuples():\n",
    "    pass\n",
    "    # There is only one textgrid in the sample I'm working with, so let's\n",
    "    # move on and illustrate what can be done in this loop by working\n",
    "    # with the current value of `row`. See next cell(s)."
   ]
  },
  {
   "cell_type": "markdown",
   "id": "da7587b7",
   "metadata": {},
   "source": [
    "Load the tier(s) from the textgrid as dataframe(s), then select tokens from the dataframe. Add some `item` and `spkr` metadata from `row`."
   ]
  },
  {
   "cell_type": "code",
   "execution_count": 7,
   "id": "c11d8b92",
   "metadata": {},
   "outputs": [
    {
     "data": {
      "text/html": [
       "<div>\n",
       "<style scoped>\n",
       "    .dataframe tbody tr th:only-of-type {\n",
       "        vertical-align: middle;\n",
       "    }\n",
       "\n",
       "    .dataframe tbody tr th {\n",
       "        vertical-align: top;\n",
       "    }\n",
       "\n",
       "    .dataframe thead th {\n",
       "        text-align: right;\n",
       "    }\n",
       "</style>\n",
       "<table border=\"1\" class=\"dataframe\">\n",
       "  <thead>\n",
       "    <tr style=\"text-align: right;\">\n",
       "      <th></th>\n",
       "      <th>t1</th>\n",
       "      <th>t2</th>\n",
       "      <th>label</th>\n",
       "      <th>fname</th>\n",
       "      <th>item</th>\n",
       "      <th>spkr</th>\n",
       "    </tr>\n",
       "  </thead>\n",
       "  <tbody>\n",
       "    <tr>\n",
       "      <th>1</th>\n",
       "      <td>2.489167</td>\n",
       "      <td>2.615481</td>\n",
       "      <td>s</td>\n",
       "      <td>/Users/ronald/src/amznas/doc/pid_aop_jrl_20220...</td>\n",
       "      <td>_matarM_</td>\n",
       "      <td>aop</td>\n",
       "    </tr>\n",
       "    <tr>\n",
       "      <th>4</th>\n",
       "      <td>3.617924</td>\n",
       "      <td>3.729167</td>\n",
       "      <td>s</td>\n",
       "      <td>/Users/ronald/src/amznas/doc/pid_aop_jrl_20220...</td>\n",
       "      <td>_matarM_</td>\n",
       "      <td>aop</td>\n",
       "    </tr>\n",
       "    <tr>\n",
       "      <th>7</th>\n",
       "      <td>4.666300</td>\n",
       "      <td>4.781131</td>\n",
       "      <td>s</td>\n",
       "      <td>/Users/ronald/src/amznas/doc/pid_aop_jrl_20220...</td>\n",
       "      <td>_matarM_</td>\n",
       "      <td>aop</td>\n",
       "    </tr>\n",
       "    <tr>\n",
       "      <th>10</th>\n",
       "      <td>5.734770</td>\n",
       "      <td>5.817305</td>\n",
       "      <td>s</td>\n",
       "      <td>/Users/ronald/src/amznas/doc/pid_aop_jrl_20220...</td>\n",
       "      <td>_matarM_</td>\n",
       "      <td>aop</td>\n",
       "    </tr>\n",
       "    <tr>\n",
       "      <th>13</th>\n",
       "      <td>6.726229</td>\n",
       "      <td>6.837472</td>\n",
       "      <td>s</td>\n",
       "      <td>/Users/ronald/src/amznas/doc/pid_aop_jrl_20220...</td>\n",
       "      <td>_matarM_</td>\n",
       "      <td>aop</td>\n",
       "    </tr>\n",
       "    <tr>\n",
       "      <th>16</th>\n",
       "      <td>7.725990</td>\n",
       "      <td>7.820726</td>\n",
       "      <td>s</td>\n",
       "      <td>/Users/ronald/src/amznas/doc/pid_aop_jrl_20220...</td>\n",
       "      <td>_matarM_</td>\n",
       "      <td>aop</td>\n",
       "    </tr>\n",
       "  </tbody>\n",
       "</table>\n",
       "</div>"
      ],
      "text/plain": [
       "          t1        t2 label  \\\n",
       "1   2.489167  2.615481     s   \n",
       "4   3.617924  3.729167     s   \n",
       "7   4.666300  4.781131     s   \n",
       "10  5.734770  5.817305     s   \n",
       "13  6.726229  6.837472     s   \n",
       "16  7.725990  7.820726     s   \n",
       "\n",
       "                                                fname      item spkr  \n",
       "1   /Users/ronald/src/amznas/doc/pid_aop_jrl_20220...  _matarM_  aop  \n",
       "4   /Users/ronald/src/amznas/doc/pid_aop_jrl_20220...  _matarM_  aop  \n",
       "7   /Users/ronald/src/amznas/doc/pid_aop_jrl_20220...  _matarM_  aop  \n",
       "10  /Users/ronald/src/amznas/doc/pid_aop_jrl_20220...  _matarM_  aop  \n",
       "13  /Users/ronald/src/amznas/doc/pid_aop_jrl_20220...  _matarM_  aop  \n",
       "16  /Users/ronald/src/amznas/doc/pid_aop_jrl_20220...  _matarM_  aop  "
      ]
     },
     "execution_count": 7,
     "metadata": {},
     "output_type": "execute_result"
    }
   ],
   "source": [
    "# Set of consonant symbols.\n",
    "consonants = ['s', 't']\n",
    "\n",
    "[phdf] = read_label(str(datadir / row.fname), ftype='praat')\n",
    "tokens = phdf[phdf['label'].isin(consonants)].copy()\n",
    "tokens['item'] = row.item\n",
    "tokens['spkr'] = row.spkr\n",
    "tokens"
   ]
  },
  {
   "cell_type": "markdown",
   "id": "f3969d7d",
   "metadata": {},
   "source": [
    "Load the signals. Oral flow and nasal flow are lowpass filtered."
   ]
  },
  {
   "cell_type": "code",
   "execution_count": 8,
   "id": "eff53d66",
   "metadata": {},
   "outputs": [],
   "source": [
    "(rate, ts, audio, orfl, nsfl) = get_sigs(str(datadir / f'{row.barename}.wav'))"
   ]
  },
  {
   "cell_type": "markdown",
   "id": "20e1fdfe",
   "metadata": {},
   "source": [
    "For each selected token, read the corresponding data from the nasal flow channel."
   ]
  },
  {
   "cell_type": "code",
   "execution_count": 9,
   "id": "fef48974",
   "metadata": {},
   "outputs": [
    {
     "data": {
      "image/png": "[encoded data removed]",
      "text/plain": [
       "<Figure size 640x480 with 1 Axes>"
      ]
     },
     "metadata": {},
     "output_type": "display_data"
    }
   ],
   "source": [
    "for tok in tokens.itertuples():\n",
    "    rng = np.arange(match_tokentimes(tok.t1, ts), match_tokentimes(tok.t2, ts))\n",
    "    plt.plot(nsfl[rng])\n",
    "    # Call landmark-finding function here."
   ]
  }
 ],
 "metadata": {
  "kernelspec": {
   "display_name": "Python 3 (ipykernel)",
   "language": "python",
   "name": "python3"
  },
  "language_info": {
   "codemirror_mode": {
    "name": "ipython",
    "version": 3
   },
   "file_extension": ".py",
   "mimetype": "text/x-python",
   "name": "python",
   "nbconvert_exporter": "python",
   "pygments_lexer": "ipython3",
   "version": "3.9.13"
  }
 },
 "nbformat": 4,
 "nbformat_minor": 5
}
